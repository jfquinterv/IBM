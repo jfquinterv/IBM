{
 "cells": [
  {
   "cell_type": "markdown",
   "id": "4e4a2efe-d86c-4776-adec-21f88bce9dff",
   "metadata": {},
   "source": [
    "# Data Science Tools and Ecosystem"
   ]
  },
  {
   "cell_type": "markdown",
   "id": "74026ac6-166b-45f9-8759-d165e4622943",
   "metadata": {},
   "source": [
    "In this notebook, Data Science Tools and Ecosystem are summarized."
   ]
  },
  {
   "cell_type": "markdown",
   "id": "08201fca-798c-4bda-8c31-4e5bf492bb2a",
   "metadata": {},
   "source": [
    "**Objectives:**\n",
    "+ python\n",
    "+ Java script\n",
    "+ Java\n",
    "+ r\n",
    "+ Scala\n",
    "+ sql"
   ]
  },
  {
   "cell_type": "code",
   "execution_count": null,
   "id": "faca4be2-9f19-4f00-afcb-0ccabd5ba661",
   "metadata": {},
   "outputs": [],
   "source": [
    "Some of the popular languages that Data Scientists use are:\n",
    "1. python\n",
    "2. r\n",
    "3. Java\n",
    "4. Scala"
   ]
  },
  {
   "cell_type": "code",
   "execution_count": null,
   "id": "b35427cf-1450-4d3d-a66c-c6810f0b23d4",
   "metadata": {},
   "outputs": [],
   "source": [
    "Some of the commonly used libraries used by Data Scientists include:\n",
    "1. pandas\n",
    "2. numpy\n",
    "3. matplotlib"
   ]
  },
  {
   "cell_type": "markdown",
   "id": "86c32ea6-6c4a-4f2a-b375-fed1f2119cad",
   "metadata": {},
   "source": [
    " | Data Science Tools |\n",
    " |------------------- |\n",
    " | R Studio           |\n",
    " | Spyder             |\n",
    " | Visual  Studio Code |\n",
    " "
   ]
  },
  {
   "cell_type": "markdown",
   "id": "e4922d24-59d0-40c6-aa89-e49ab32c6b52",
   "metadata": {},
   "source": [
    "### Below are a few examples of evaluating arithmetic expressions in Python"
   ]
  },
  {
   "cell_type": "code",
   "execution_count": 9,
   "id": "2e633038-1421-4c0c-820b-edcbe7ca7c8d",
   "metadata": {},
   "outputs": [
    {
     "data": {
      "text/plain": [
       "17"
      ]
     },
     "execution_count": 9,
     "metadata": {},
     "output_type": "execute_result"
    }
   ],
   "source": [
    "#  This a simple arithmetic expression to mutiply then add integers\n",
    "(3*4)+5"
   ]
  },
  {
   "cell_type": "code",
   "execution_count": 11,
   "id": "ca9b8774-86a0-4b04-9521-6d765e370eac",
   "metadata": {},
   "outputs": [
    {
     "data": {
      "text/plain": [
       "3.3333333333333335"
      ]
     },
     "execution_count": 11,
     "metadata": {},
     "output_type": "execute_result"
    }
   ],
   "source": [
    "# This will convert 200 minutes to hours by diving by 60.\n",
    "minutes=200\n",
    "hour=200/60\n",
    "hour"
   ]
  },
  {
   "cell_type": "markdown",
   "id": "5cf01628-5ed1-40a1-a275-e2430f45aebc",
   "metadata": {},
   "source": [
    "## Autor:  \n",
    "Juan Felipe Quintero Vanegas"
   ]
  }
 ],
 "metadata": {
  "kernelspec": {
   "display_name": "Python 3 (ipykernel)",
   "language": "python",
   "name": "python3"
  },
  "language_info": {
   "codemirror_mode": {
    "name": "ipython",
    "version": 3
   },
   "file_extension": ".py",
   "mimetype": "text/x-python",
   "name": "python",
   "nbconvert_exporter": "python",
   "pygments_lexer": "ipython3",
   "version": "3.11.7"
  }
 },
 "nbformat": 4,
 "nbformat_minor": 5
}
